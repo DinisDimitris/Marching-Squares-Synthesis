{
 "cells": [
  {
   "cell_type": "code",
   "execution_count": 17,
   "id": "0d3c43d2-d58d-4fef-9f3a-96e79724e65e",
   "metadata": {},
   "outputs": [],
   "source": [
    "import numpy as np\n",
    "import pandas as pd\n",
    "import random\n",
    "import matplotlib.pyplot as plt\n",
    "from skimage import measure\n",
    "from tensorflow.keras.utils import to_categorical\n",
    "import os\n",
    "import math\n",
    "import tqdm\n",
    "import cv2 as cv\n",
    "import enum"
   ]
  },
  {
   "cell_type": "code",
   "execution_count": 18,
   "id": "7a9e0732-df3f-41c5-8a09-bc82299608a2",
   "metadata": {},
   "outputs": [],
   "source": [
    "width, height = 14, 14\n",
    "\n",
    "isoval_boundaries = {\n",
    "\"vertical_ellipse\" : (1,7),\n",
    "\"horizontal_ellipse\" : (1,7),\n",
    "\"heart\" : (5,135),\n",
    "\"circle\" : (25,169),\n",
    "\"hexagon\" : (5,12)\n",
    "}\n",
    "\n",
    "shapes = {\n",
    "\"vertical_ellipse\" : 1,\n",
    "\"horizontal_ellipse\" : 2,\n",
    "\"heart\" : 3,\n",
    "\"circle\" : 4,\n",
    "\"hexagon\" : 5\n",
    "}"
   ]
  },
  {
   "cell_type": "code",
   "execution_count": 19,
   "id": "c31043ff-4c62-47a6-9df9-d1d497813f0f",
   "metadata": {},
   "outputs": [],
   "source": [
    "def get_shape(name, x,y):\n",
    "    if name == \"heart\":\n",
    "        return (x**2 + (y - np.sqrt(np.abs(x))) ** 2)\n",
    "    elif name == \"circle\" or name == \"hexagon\":  #hexagon and circle share the same implicit function\n",
    "        return x**2 + y**2\n",
    "    elif name == \"vertical_ellipse\":\n",
    "        x = (x - 5)**2 / 9\n",
    "        y = (y + 1)**2 / 16\n",
    "        return x + y\n",
    "    elif name == \"horizontal_ellipse\":\n",
    "        x = (x + 1)**2 / 16\n",
    "        y = (y - 5)**2 / 9\n",
    "        return x + y"
   ]
  },
  {
   "cell_type": "code",
   "execution_count": 20,
   "id": "532287b6-3a24-4132-8dce-9553b8e7df28",
   "metadata": {},
   "outputs": [],
   "source": [
    "def pad_square_matrix(m, p):\n",
    "    offset = p - m.shape[1] \n",
    "    \n",
    "    offset = offset // 2\n",
    "    \n",
    "    x = np.pad(m[0], offset, 'constant', constant_values=(0, 0))\n",
    "    y = np.pad(m[1], offset, 'constant', constant_values=(0, 0))\n",
    "    \n",
    "    if (x.shape[0] != p):\n",
    "        x = np.append(x, 0)\n",
    "        y = np.append(y, 0)\n",
    "    return np.array((x,y))"
   ]
  },
  {
   "cell_type": "code",
   "execution_count": 21,
   "id": "07d7cbc4-57ef-4937-b415-6ce5e3f998c9",
   "metadata": {},
   "outputs": [],
   "source": [
    "def gen_implicit_shape(shape_name):\n",
    "    a = []\n",
    "    for w in range(-width,width):\n",
    "        for h in range(-height,height):\n",
    "            a.append(get_shape(shape_name,w,h))\n",
    "    \n",
    "    np_arr = np.array(a).reshape(width * 2, height * 2)\n",
    "    \n",
    "    return np_arr"
   ]
  },
  {
   "cell_type": "code",
   "execution_count": 22,
   "id": "d1afcbc7-85d4-44ab-bdbe-2840a3afe0ed",
   "metadata": {},
   "outputs": [],
   "source": [
    "def gen_uniform_dataset(sample_size, pad_size,  persistent_save = False, shuffle = False):\n",
    "    contours = []\n",
    "    labels = []\n",
    "    for shape_name in shapes.keys():\n",
    "\n",
    "        isoval_bounds = isoval_boundaries[shape_name]\n",
    "        boundary_pool = [bounds for bounds in range(isoval_bounds[0], isoval_bounds[1])]\n",
    "\n",
    "        if sample_size > len(boundary_pool):\n",
    "            isovals = []\n",
    "            for i in range(sample_size):\n",
    "                isovals.append(random.randint(isoval_bounds[0], isoval_bounds[1]))\n",
    "        else:\n",
    "            isovals = random.sample(boundary_pool, sample_size)\n",
    "\n",
    "        for isoval in isovals:\n",
    "            sample = measure.find_contours(gen_implicit_shape(shape_name), isoval)\n",
    "\n",
    "            contours.append(  [sample[0][:,0] ,sample[0][:,1] ])\n",
    "            labels.append((shapes[shape_name]))\n",
    "            \n",
    "    return contours, np.asarray(labels)"
   ]
  },
  {
   "cell_type": "code",
   "execution_count": 23,
   "id": "0eaea5bb-d0cf-401e-a94e-067d21bdb77b",
   "metadata": {},
   "outputs": [],
   "source": [
    "def gen_images_from_contours(data, IMG_W=28, IMG_H=28, external_save = False):\n",
    "    images = [] \n",
    "    for img_i in tqdm.tqdm(range(len(data))):\n",
    "        # create empty image\n",
    "        image = np.zeros((IMG_W, IMG_H), np.uint8)\n",
    "\n",
    "        coords_converted = [\n",
    "            (math.ceil(x), math.ceil(y))\n",
    "            for x, y in zip(data[img_i][0], data[img_i][1])\n",
    "        ]\n",
    "        # print(coords_converted)\n",
    "\n",
    "        # draw coordinates\n",
    "        for i in range(IMG_W):\n",
    "            for j in range(IMG_H):\n",
    "                if (i, j) in coords_converted:\n",
    "                    image[i, j] = 255\n",
    "\n",
    "        image = cv.rotate(image, cv.ROTATE_90_COUNTERCLOCKWISE)             \n",
    "        images.append(image)\n",
    "        \n",
    "        if (external_save):\n",
    "            if not os.path.exists(\"images\"):\n",
    "                os.makedirs(\"images\")\n",
    "\n",
    "            for file in os.listdir(\"images\"):\n",
    "                if (file != \".ipynb_checkpoints\"):\n",
    "                    os.remove(os.path.join(\"images\", file))\n",
    "            # save image\n",
    "            cv.imwrite(\"images/shape_{}.png\".format(img_i + 1), image)\n",
    "        \n",
    "    return images"
   ]
  },
  {
   "cell_type": "code",
   "execution_count": 24,
   "id": "ed65f1c3-81fd-41af-835c-c1abd4950e98",
   "metadata": {},
   "outputs": [
    {
     "name": "stderr",
     "output_type": "stream",
     "text": [
      "100%|█████████████████████████████████████| 2500/2500 [00:02<00:00, 1024.56it/s]\n"
     ]
    }
   ],
   "source": [
    "df, dy = gen_uniform_dataset(500, 120,  True, True)\n",
    "\n",
    "contours_as_images = gen_images_from_contours(df)\n",
    "np.savez(\"dataset/shape_data\" + \".npz\", contours = contours_as_images, labels = dy)"
   ]
  },
  {
   "cell_type": "code",
   "execution_count": 666,
   "id": "332113a4-3c5c-4a47-b480-392fd245c0a7",
   "metadata": {},
   "outputs": [
    {
     "data": {
      "image/png": "[encoded data removed]",
      "text/plain": [
       "<Figure size 640x480 with 1 Axes>"
      ]
     },
     "metadata": {},
     "output_type": "display_data"
    }
   ],
   "source": [
    "contours = df[459][0]\n",
    "fig, ax = plt.subplots()\n",
    "\n",
    "ax.plot(contours[0], contours[1], linewidth=2)\n",
    "\n",
    "ax.axis('image')\n",
    "ax.set_xticks([])\n",
    "ax.set_yticks([])\n",
    "\n",
    "plt.show()"
   ]
  }
 ],
 "metadata": {
  "kernelspec": {
   "display_name": "Python 3",
   "language": "python",
   "name": "python3"
  },
  "language_info": {
   "codemirror_mode": {
    "name": "ipython",
    "version": 3
   },
   "file_extension": ".py",
   "mimetype": "text/x-python",
   "name": "python",
   "nbconvert_exporter": "python",
   "pygments_lexer": "ipython3",
   "version": "3.10.4"
  }
 },
 "nbformat": 4,
 "nbformat_minor": 5
}

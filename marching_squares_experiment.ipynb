{
 "cells": [
  {
   "cell_type": "code",
   "execution_count": 2,
   "id": "37c80d93-89c4-4ca8-9d8e-cdc3b3ee8a0c",
   "metadata": {},
   "outputs": [],
   "source": [
    "import numpy as np\n",
    "import matplotlib.pyplot as plt\n",
    "from skimage import measure"
   ]
  },
  {
   "cell_type": "code",
   "execution_count": 37,
   "id": "75ca63fa-e150-4b26-88f1-cbda6e118a4a",
   "metadata": {},
   "outputs": [
    {
     "data": {
      "text/plain": [
       "array([[0. , 0. , 0. , 0. , 0. , 0. , 0. , 0. , 0. , 0. ],\n",
       "       [0. , 0. , 0. , 0. , 0. , 0. , 0. , 0. , 0. , 0. ],\n",
       "       [0. , 0. , 0. , 0.5, 0.5, 0.5, 0. , 0. , 0. , 0. ],\n",
       "       [0. , 0. , 0. , 0.5, 0.5, 0.5, 0. , 0. , 0. , 0. ],\n",
       "       [0. , 0. , 0. , 0.5, 0. , 0.5, 0. , 0. , 0. , 0. ],\n",
       "       [0. , 0. , 0. , 0.5, 0.5, 0.5, 0. , 0. , 0. , 0. ],\n",
       "       [0. , 0. , 0. , 0.5, 0.5, 0.5, 0. , 0. , 0. , 0. ],\n",
       "       [0. , 0. , 0. , 0. , 0. , 0. , 0. , 0. , 0. , 0. ],\n",
       "       [0. , 0. , 0. , 0. , 0. , 0. , 0. , 0. , 0. , 0. ],\n",
       "       [0. , 0. , 0. , 0. , 0. , 0. , 0. , 0. , 0. , 0. ]])"
      ]
     },
     "execution_count": 37,
     "metadata": {},
     "output_type": "execute_result"
    }
   ],
   "source": [
    "# rectangle\n",
    "r = np.zeros(100).reshape(10,10)\n",
    "\n",
    "\n",
    "#r[1][4] = 0.5\n",
    "\n",
    "r[2][3] = 0.5\n",
    "r[2][5] = 0.5\n",
    "\n",
    "r[6][3] =0.5\n",
    "r[6][5] = 0.5\n",
    "\n",
    "r[3][3] = 0.5\n",
    "r[3][4] = 0.5\n",
    "r[2][4] = 0.5\n",
    "r[3][5] = 0.5\n",
    "\n",
    "\n",
    "r[4][3] = 0.5\n",
    "#r[4][2] = 0.5\n",
    "r[4][5] = 0.5\n",
    "#r[4][6] = 0.5\n",
    "\n",
    "\n",
    "r[5][3] = 0.5\n",
    "r[5][4] = 0.5\n",
    "r[6][4] = 0.5\n",
    "r[5][5] = 0.5\n",
    "\n",
    "#r[7][4] = 0.5\n",
    "\n",
    "\n",
    "r"
   ]
  },
  {
   "cell_type": "code",
   "execution_count": 11,
   "id": "b1719945-7d02-4eba-8700-4e05da5a5f58",
   "metadata": {},
   "outputs": [
    {
     "data": {
      "text/plain": [
       "array([[0. , 0. , 0. , 0. , 0. , 0. , 0. , 0. , 0. , 0. ],\n",
       "       [0. , 0. , 0. , 0. , 0. , 0. , 0. , 0. , 0. , 0. ],\n",
       "       [0. , 0. , 0.5, 0. , 0. , 0. , 0. , 0. , 0. , 0. ],\n",
       "       [0. , 0.5, 0.5, 0.5, 0. , 0. , 0. , 0. , 0. , 0. ],\n",
       "       [0. , 0. , 0.5, 0. , 0. , 0. , 0. , 0. , 0. , 0. ],\n",
       "       [0. , 0. , 0. , 0. , 0. , 0. , 0. , 0. , 0. , 0. ],\n",
       "       [0. , 0. , 0. , 0. , 0. , 0. , 0. , 0. , 0. , 0. ],\n",
       "       [0. , 0. , 0. , 0. , 0. , 0. , 0. , 0. , 0. , 0. ],\n",
       "       [0. , 0. , 0. , 0. , 0. , 0. , 0. , 0. , 0. , 0. ],\n",
       "       [0. , 0. , 0. , 0. , 0. , 0. , 0. , 0. , 0. , 0. ]])"
      ]
     },
     "execution_count": 11,
     "metadata": {},
     "output_type": "execute_result"
    }
   ],
   "source": [
    "# diamond\n",
    "r = np.zeros(100).reshape(10,10)\n",
    "\n",
    "r[3][1] = 0.5\n",
    "r[4][2] = 0.5\n",
    "r[3][3] = 0.5\n",
    "r[2][2] = 0.5\n",
    "r[3][2] = 0.5\n",
    "\n",
    "r"
   ]
  },
  {
   "cell_type": "code",
   "execution_count": 136,
   "id": "62f7bd76-c7d2-46a7-b9d7-9821699c2b54",
   "metadata": {},
   "outputs": [
    {
     "data": {
      "text/plain": [
       "array([[7.47384829e-01, 8.20715847e-02, 5.56038359e-01, 1.96299067e-01,\n",
       "        7.55670066e-01, 8.86449873e-01, 4.78687340e-01, 3.08634046e-01,\n",
       "        9.86897938e-01, 7.08555890e-01],\n",
       "       [2.34233996e-02, 2.89888964e-01, 7.28386186e-01, 6.35050737e-01,\n",
       "        6.37588319e-01, 3.22219941e-01, 4.07786848e-01, 5.26851904e-01,\n",
       "        5.92682921e-01, 1.73002607e-01],\n",
       "       [2.94242177e-01, 4.81510102e-01, 6.27116966e-01, 6.31411461e-01,\n",
       "        1.38802680e-02, 1.07150904e-01, 6.44549187e-01, 3.44637654e-01,\n",
       "        2.93187802e-01, 3.07817757e-01],\n",
       "       [8.54578561e-01, 8.35747153e-01, 2.75755156e-01, 2.31296013e-01,\n",
       "        9.23743506e-01, 2.43426306e-01, 1.95751430e-01, 2.47962368e-01,\n",
       "        7.65452806e-01, 8.89217686e-01],\n",
       "       [7.43055484e-01, 4.92295807e-01, 2.41663278e-02, 4.93712721e-01,\n",
       "        7.43552046e-01, 7.23726961e-01, 6.62992923e-01, 2.61077529e-01,\n",
       "        8.92439008e-02, 9.35134098e-01],\n",
       "       [2.35367194e-01, 9.36097606e-01, 4.78793673e-01, 3.05577701e-01,\n",
       "        7.06201048e-01, 7.61058541e-01, 3.49608958e-01, 1.97142881e-01,\n",
       "        6.65313303e-01, 2.46375418e-01],\n",
       "       [8.13501751e-01, 4.53987755e-02, 4.77409148e-02, 3.49584711e-01,\n",
       "        2.68834261e-01, 8.46963379e-01, 1.10397482e-01, 3.55117501e-01,\n",
       "        1.12177220e-01, 7.71202401e-01],\n",
       "       [5.45395329e-01, 2.12582963e-04, 4.15157319e-01, 8.67858879e-01,\n",
       "        2.66766996e-01, 7.53095224e-01, 3.24329193e-01, 4.13282561e-01,\n",
       "        7.82292688e-01, 4.71150035e-01],\n",
       "       [7.73675666e-01, 4.14283627e-01, 1.11146805e-01, 8.85510765e-01,\n",
       "        8.64849434e-01, 3.18616161e-01, 2.52801936e-01, 8.62302552e-01,\n",
       "        2.69717796e-01, 8.03210228e-01],\n",
       "       [4.78880868e-01, 3.19193407e-01, 9.41333034e-01, 1.90644322e-02,\n",
       "        9.30976729e-01, 4.11863514e-01, 1.89264025e-01, 8.28562550e-01,\n",
       "        3.98448208e-01, 3.37772692e-01]])"
      ]
     },
     "execution_count": 136,
     "metadata": {},
     "output_type": "execute_result"
    }
   ],
   "source": [
    "r = np.random.random_sample(100).reshape(10,10)\n",
    "r"
   ]
  },
  {
   "cell_type": "code",
   "execution_count": 38,
   "id": "00c52788-7ac2-4012-97fa-1c2958f35b71",
   "metadata": {},
   "outputs": [
    {
     "data": {
      "image/png": "[encoded data removed]",
      "text/plain": [
       "<Figure size 640x480 with 1 Axes>"
      ]
     },
     "metadata": {},
     "output_type": "display_data"
    }
   ],
   "source": [
    "contours = measure.find_contours(r, 0.3)\n",
    "fig, ax = plt.subplots()\n",
    "\n",
    "for contour in contours:\n",
    "    ax.plot(contour[:, 1], contour[:, 0], linewidth=2)\n",
    "\n",
    "ax.axis('image')\n",
    "ax.set_xticks([])\n",
    "ax.set_yticks([])\n",
    "plt.show()"
   ]
  },
  {
   "cell_type": "code",
   "execution_count": null,
   "id": "71ecfe3a-a329-42b4-94b7-d21a80308ab3",
   "metadata": {},
   "outputs": [],
   "source": []
  }
 ],
 "metadata": {
  "kernelspec": {
   "display_name": "Python 3",
   "language": "python",
   "name": "python3"
  },
  "language_info": {
   "codemirror_mode": {
    "name": "ipython",
    "version": 3
   },
   "file_extension": ".py",
   "mimetype": "text/x-python",
   "name": "python",
   "nbconvert_exporter": "python",
   "pygments_lexer": "ipython3",
   "version": "3.10.4"
  }
 },
 "nbformat": 4,
 "nbformat_minor": 5
}

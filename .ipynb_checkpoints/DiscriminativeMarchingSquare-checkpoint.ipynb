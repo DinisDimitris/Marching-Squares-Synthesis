{
 "cells": [
  {
   "cell_type": "code",
   "execution_count": 56,
   "id": "71ecfe3a-a329-42b4-94b7-d21a80308ab3",
   "metadata": {},
   "outputs": [],
   "source": [
    "import numpy as np\n",
    "import os\n",
    "import matplotlib.pyplot as plt\n",
    "from sklearn.model_selection import KFold\n",
    "from tensorflow.keras.utils import to_categorical\n",
    "from tensorflow.keras.models import Sequential, Model\n",
    "from tensorflow.keras.layers import Conv2D\n",
    "from tensorflow.keras.layers import MaxPooling2D\n",
    "from tensorflow.keras.layers import Dense, Flatten\n",
    "from tensorflow.keras.optimizers import SGD\n",
    "import tensorflow.keras.backend as K\n",
    "from sklearn.model_selection import train_test_split"
   ]
  },
  {
   "cell_type": "code",
   "execution_count": 57,
   "id": "94e2f0b6-da61-430d-8f0e-d49841e9ba3c",
   "metadata": {},
   "outputs": [],
   "source": [
    "def normalize_pixels(data):\n",
    "    return data / 255"
   ]
  },
  {
   "cell_type": "code",
   "execution_count": 90,
   "id": "9fa5a2ae-9d07-403c-bb01-1e389d2355d7",
   "metadata": {},
   "outputs": [],
   "source": [
    "def pred_to_human_readable(one_hot_arr) -> str:\n",
    "    \n",
    "    shapes = [\"none\", \"vertical_ellipse\",\"horizontal_ellipse\", \"heart\",  \"circle\", \"hexagon\",\"spiral\"] \n",
    "    index = np.where(one_hot_arr == max(one_hot_arr))[0][0]\n",
    "    \n",
    "    return shapes[index]"
   ]
  },
  {
   "cell_type": "code",
   "execution_count": 68,
   "id": "ba138578-1def-4ee2-bb1c-74df291f59bf",
   "metadata": {
    "tags": []
   },
   "outputs": [],
   "source": [
    "def load_dataset():\n",
    "    data = np.load('dataset/shape_data.npz', mmap_mode='r', allow_pickle=True)\n",
    "    x = data['contours']\n",
    "    y = data['labels']\n",
    "    \n",
    "    train_x, test_x, train_y, test_y = train_test_split(x, y, test_size=0.33, random_state=42)\n",
    "    \n",
    "    train_x.reshape(-1, 28,28,1)\n",
    "    test_x.reshape(-1, 28,28,1)\n",
    "    \n",
    "    train_y = to_categorical(train_y, num_classes)\n",
    "    test_y = to_categorical(test_y)\n",
    "    \n",
    "    return normalize_pixels(train_x), normalize_pixels(test_x), train_y, test_y"
   ]
  },
  {
   "cell_type": "code",
   "execution_count": 69,
   "id": "b58a1f92-4653-4842-b144-3d1502fc5227",
   "metadata": {},
   "outputs": [],
   "source": [
    "train_x, test_x, train_y, test_y = load_dataset()\n",
    "\n",
    "isRgb = train_x[0].shape[2] == 3 \n",
    "\n",
    "width = train_x[0].shape[0]\n",
    "height = train_x[0].shape[1]"
   ]
  },
  {
   "cell_type": "code",
   "execution_count": 43,
   "id": "56ba016c-6fba-4b85-9980-5fb3d39e02ae",
   "metadata": {},
   "outputs": [
    {
     "data": {
      "text/plain": [
       "(4020, 28, 28, 3)"
      ]
     },
     "execution_count": 43,
     "metadata": {},
     "output_type": "execute_result"
    }
   ],
   "source": [
    "train_x.shape"
   ]
  },
  {
   "cell_type": "code",
   "execution_count": 44,
   "id": "1f70c2e0-d5b1-4c49-a9e1-a4a2c9790c22",
   "metadata": {},
   "outputs": [
    {
     "data": {
      "text/plain": [
       "(4020, 7)"
      ]
     },
     "execution_count": 44,
     "metadata": {},
     "output_type": "execute_result"
    }
   ],
   "source": [
    "train_y.shape"
   ]
  },
  {
   "cell_type": "code",
   "execution_count": 45,
   "id": "c47baa34-10a2-49a1-a617-7770d3dba657",
   "metadata": {},
   "outputs": [
    {
     "data": {
      "text/plain": [
       "(1980, 7)"
      ]
     },
     "execution_count": 45,
     "metadata": {},
     "output_type": "execute_result"
    }
   ],
   "source": [
    "test_y.shape"
   ]
  },
  {
   "cell_type": "code",
   "execution_count": 19,
   "id": "563247df-387f-4921-a1a4-d37020c980e0",
   "metadata": {},
   "outputs": [],
   "source": [
    "channel = 1\n",
    "if (isRgb):\n",
    "    channel = 3\n",
    "IN_SHAPE = (width,height,channel)\n",
    "NO_OUTS = len(test_y[0])"
   ]
  },
  {
   "cell_type": "markdown",
   "id": "f3985064-1143-498d-a4df-3f043021955d",
   "metadata": {},
   "source": [
    "1. A convolution 2D layer with 32 filter of size 3x3, stride 1, no padding, `he_uniform` kernel initializer and RELU activation function.\n",
    "2. A max pooling layer with filter 2x2\n",
    "3. A flatten layer\n",
    "4. A dense layer with 100 neurons, `he_uniform` kernel initializer and RELU activation function.\n",
    "5. The output layer"
   ]
  },
  {
   "cell_type": "code",
   "execution_count": 20,
   "id": "d614d7be-ebd4-46e0-af68-1c0f6f3f7121",
   "metadata": {},
   "outputs": [],
   "source": [
    "def define_model(layers):\n",
    "    model = Sequential()\n",
    "    for i in range(layers):\n",
    "        model.add(Conv2D(32, (3,3), activation = \"relu\", kernel_initializer=\"he_uniform\", input_shape =IN_SHAPE ))\n",
    "    model.add(MaxPooling2D(2,2))\n",
    "    model.add(Flatten())\n",
    "    model.add(Dense(60, activation =\"relu\", kernel_initializer=\"he_uniform\"))\n",
    "    model.add(Dense(NO_OUTS, activation =\"softmax\"))\n",
    "    \n",
    "    model.compile(optimizer= SGD(lr = 0.01, momentum = 0.9), loss = \"categorical_crossentropy\", metrics = [\"accuracy\"])\n",
    "    \n",
    "    return model"
   ]
  },
  {
   "cell_type": "code",
   "execution_count": 24,
   "id": "a10535aa-e660-4b4c-b97c-c139f14534ae",
   "metadata": {},
   "outputs": [
    {
     "name": "stdout",
     "output_type": "stream",
     "text": [
      "Model: \"sequential_2\"\n",
      "_________________________________________________________________\n",
      " Layer (type)                Output Shape              Param #   \n",
      "=================================================================\n",
      " conv2d_2 (Conv2D)           (None, 26, 26, 32)        896       \n",
      "                                                                 \n",
      " max_pooling2d_2 (MaxPooling  (None, 13, 13, 32)       0         \n",
      " 2D)                                                             \n",
      "                                                                 \n",
      " flatten_2 (Flatten)         (None, 5408)              0         \n",
      "                                                                 \n",
      " dense_4 (Dense)             (None, 60)                324540    \n",
      "                                                                 \n",
      " dense_5 (Dense)             (None, 7)                 427       \n",
      "                                                                 \n",
      "=================================================================\n",
      "Total params: 325,863\n",
      "Trainable params: 325,863\n",
      "Non-trainable params: 0\n",
      "_________________________________________________________________\n"
     ]
    }
   ],
   "source": [
    "define_model(1).summary()"
   ]
  },
  {
   "cell_type": "code",
   "execution_count": 21,
   "id": "c21ee87b-dd48-4e6e-92c7-d6db6913add7",
   "metadata": {},
   "outputs": [],
   "source": [
    "def evaluate_model(k, train_x, train_y):\n",
    "    scores, hist = [], []\n",
    "    kf = KFold(k, shuffle = True, random_state= 42)\n",
    "    \n",
    "    for model_number, (train_index, test_index) in enumerate(kf.split(train_x)):\n",
    "        model = define_model(1)\n",
    "        trainX, trainY, testX, testY = train_x[train_index], train_y[train_index], train_x[test_index], train_y[test_index]\n",
    "        \n",
    "        history = model.fit(trainX, trainY, epochs=5, batch_size=32, validation_data = (testX,testY), verbose = 1)\n",
    "        _, acc = model.evaluate(testX, testY)\n",
    "\n",
    "        \n",
    "        print(\"Acc of model \" + str(model_number) + \"is \" + str(acc))\n",
    "        if not os.path.exists(\"weights\"):\n",
    "            os.makedirs(\"weights\")\n",
    "        model.save_weights(\"weights/model\" + str(model_number) + \".h5\")\n",
    "        scores.append(acc)\n",
    "        hist.append(history)\n",
    "    return scores,hist"
   ]
  },
  {
   "cell_type": "code",
   "execution_count": 22,
   "id": "f9c9e16b-8983-4507-800d-7aa0828b6457",
   "metadata": {},
   "outputs": [
    {
     "name": "stderr",
     "output_type": "stream",
     "text": [
      "2022-11-17 19:16:44.535775: I tensorflow/core/platform/cpu_feature_guard.cc:151] This TensorFlow binary is optimized with oneAPI Deep Neural Network Library (oneDNN) to use the following CPU instructions in performance-critical operations:  SSE4.1 SSE4.2 AVX AVX2 FMA\n",
      "To enable them in other operations, rebuild TensorFlow with the appropriate compiler flags.\n",
      "2022-11-17 19:16:44.537404: I tensorflow/core/common_runtime/process_util.cc:146] Creating new thread pool with default inter op setting: 2. Tune using inter_op_parallelism_threads for best performance.\n",
      "/home/dimitris/miniconda3/envs/cs4049/lib/python3.10/site-packages/keras/optimizer_v2/gradient_descent.py:102: UserWarning: The `lr` argument is deprecated, use `learning_rate` instead.\n",
      "  super(SGD, self).__init__(name, **kwargs)\n"
     ]
    },
    {
     "name": "stdout",
     "output_type": "stream",
     "text": [
      "Epoch 1/5\n",
      "63/63 [==============================] - 5s 69ms/step - loss: 0.3660 - accuracy: 0.9090 - val_loss: 0.0534 - val_accuracy: 0.9910\n",
      "Epoch 2/5\n",
      "63/63 [==============================] - 5s 74ms/step - loss: 0.0260 - accuracy: 0.9945 - val_loss: 0.0210 - val_accuracy: 0.9945\n",
      "Epoch 3/5\n",
      "63/63 [==============================] - 5s 85ms/step - loss: 0.0115 - accuracy: 0.9975 - val_loss: 0.0115 - val_accuracy: 0.9970\n",
      "Epoch 4/5\n",
      "63/63 [==============================] - 5s 82ms/step - loss: 0.0070 - accuracy: 0.9995 - val_loss: 0.0074 - val_accuracy: 0.9995\n",
      "Epoch 5/5\n",
      "63/63 [==============================] - 4s 68ms/step - loss: 0.0048 - accuracy: 0.9995 - val_loss: 0.0062 - val_accuracy: 0.9990\n",
      "63/63 [==============================] - 2s 27ms/step - loss: 0.0062 - accuracy: 0.9990\n",
      "Acc of model 0is 0.9990049600601196\n",
      "Epoch 1/5\n",
      "63/63 [==============================] - 5s 82ms/step - loss: 0.3137 - accuracy: 0.9179 - val_loss: 0.0398 - val_accuracy: 0.9965\n",
      "Epoch 2/5\n",
      "63/63 [==============================] - 6s 95ms/step - loss: 0.0241 - accuracy: 0.9950 - val_loss: 0.0137 - val_accuracy: 0.9980\n",
      "Epoch 3/5\n",
      "63/63 [==============================] - 5s 82ms/step - loss: 0.0123 - accuracy: 0.9975 - val_loss: 0.0083 - val_accuracy: 0.9990\n",
      "Epoch 4/5\n",
      "63/63 [==============================] - 5s 75ms/step - loss: 0.0072 - accuracy: 1.0000 - val_loss: 0.0053 - val_accuracy: 0.9995\n",
      "Epoch 5/5\n",
      "63/63 [==============================] - 5s 82ms/step - loss: 0.0048 - accuracy: 1.0000 - val_loss: 0.0039 - val_accuracy: 0.9995\n",
      "63/63 [==============================] - 2s 36ms/step - loss: 0.0039 - accuracy: 0.9995\n",
      "Acc of model 1is 0.9995024800300598\n"
     ]
    }
   ],
   "source": [
    "scores, hist = evaluate_model(2,train_x, train_y)"
   ]
  },
  {
   "cell_type": "code",
   "execution_count": 27,
   "id": "6e339796-d67d-4d96-af61-8b2a83f66d8b",
   "metadata": {},
   "outputs": [
    {
     "data": {
      "image/png": "[encoded data removed]",
      "text/plain": [
       "<Figure size 640x480 with 1 Axes>"
      ]
     },
     "metadata": {},
     "output_type": "display_data"
    }
   ],
   "source": [
    "for i in range(len(hist)):\n",
    "    # plot loss\n",
    "    plt.title('Cross Entropy Loss')\n",
    "    plt.plot(hist[i].history['loss'], color='blue', label='train')\n",
    "    plt.plot(hist[i].history['val_loss'], color='orange', label='test')\n",
    "    plt.xlabel(\"Epoch\")\n",
    "    plt.ylabel(\"Loss\")\n",
    "plt.show()\n"
   ]
  },
  {
   "cell_type": "code",
   "execution_count": 28,
   "id": "6cf4f47b-c4a7-4dab-8c45-8039e0e53f75",
   "metadata": {},
   "outputs": [
    {
     "data": {
      "image/png": "[encoded data removed]",
      "text/plain": [
       "<Figure size 640x480 with 1 Axes>"
      ]
     },
     "metadata": {},
     "output_type": "display_data"
    }
   ],
   "source": [
    "for i in range(len(hist)):\n",
    "    plt.title('Classification Accuracy')\n",
    "    plt.plot(hist[i].history['accuracy'], color='blue', label='train')\n",
    "    plt.plot(hist[i].history['val_accuracy'], color='orange', label='test')\n",
    "    plt.xlabel(\"Epoch\")\n",
    "    plt.ylabel(\"Accuracy\")\n",
    "plt.show()\n",
    "\n"
   ]
  },
  {
   "cell_type": "code",
   "execution_count": 31,
   "id": "967d2222-fcf9-41d3-9872-af2ace8ba7bf",
   "metadata": {},
   "outputs": [
    {
     "data": {
      "image/png": "[encoded data removed]",
      "text/plain": [
       "<Figure size 640x480 with 1 Axes>"
      ]
     },
     "metadata": {},
     "output_type": "display_data"
    },
    {
     "name": "stdout",
     "output_type": "stream",
     "text": [
      "[0.9990049600601196, 0.9995024800300598]\n"
     ]
    }
   ],
   "source": [
    "plt.title('Accuracy: mean=%.3f std=%.3f, n=%d' % (np.mean(scores)*100, np.std(scores)*100, len(scores)))\n",
    "# box and whisker plots of results\n",
    "plt.boxplot(scores)\n",
    "plt.ylabel(\"Accuracy\")\n",
    "plt.xticks([1],[\"Validation\"])\n",
    "plt.show()\n",
    "\n",
    "print(scores)\n",
    "\n"
   ]
  },
  {
   "cell_type": "code",
   "execution_count": 46,
   "id": "dc1d28d4-cb03-436a-b190-ffb4ed40aa6b",
   "metadata": {},
   "outputs": [
    {
     "name": "stdout",
     "output_type": "stream",
     "text": [
      "62/62 [==============================] - 2s 34ms/step - loss: 0.0045 - accuracy: 1.0000\n"
     ]
    },
    {
     "data": {
      "text/plain": [
       "[0.004488708451390266, 1.0]"
      ]
     },
     "execution_count": 46,
     "metadata": {},
     "output_type": "execute_result"
    }
   ],
   "source": [
    "best_model = define_model(1)\n",
    "best_model.load_weights(\"weights/model\"+str(np.argmax(scores))+\".h5\")\n",
    "best_model.evaluate(test_x, test_y)"
   ]
  },
  {
   "cell_type": "code",
   "execution_count": 48,
   "id": "5d063625-70a0-433c-ae7b-3eaa38d71387",
   "metadata": {},
   "outputs": [
    {
     "data": {
      "text/plain": [
       "(28, 28, 3)"
      ]
     },
     "execution_count": 48,
     "metadata": {},
     "output_type": "execute_result"
    }
   ],
   "source": [
    "test_x[0].shape"
   ]
  },
  {
   "cell_type": "code",
   "execution_count": 101,
   "id": "9de69128-8de5-4703-8265-7751fb6f239e",
   "metadata": {},
   "outputs": [
    {
     "data": {
      "text/plain": [
       "<matplotlib.image.AxesImage at 0x7f6f5e9f0730>"
      ]
     },
     "execution_count": 101,
     "metadata": {},
     "output_type": "execute_result"
    },
    {
     "data": {
      "image/png": "[encoded data removed]",
      "text/plain": [
       "<Figure size 640x480 with 1 Axes>"
      ]
     },
     "metadata": {},
     "output_type": "display_data"
    }
   ],
   "source": [
    "plt.imshow(test_x[10])"
   ]
  },
  {
   "cell_type": "code",
   "execution_count": 103,
   "id": "aa5dc69c-8b0a-4758-92e9-d0faf8e35609",
   "metadata": {},
   "outputs": [
    {
     "data": {
      "text/plain": [
       "'spiral'"
      ]
     },
     "execution_count": 103,
     "metadata": {},
     "output_type": "execute_result"
    }
   ],
   "source": [
    "predictions = best_model.predict(test_x[:11])\n",
    "\n",
    "pred_to_human_readable(predictions[10])"
   ]
  },
  {
   "cell_type": "code",
   "execution_count": 86,
   "id": "af7c9cdc-9765-430c-a2b6-9d6b2a3230c8",
   "metadata": {},
   "outputs": [
    {
     "data": {
      "text/plain": [
       "array([0., 0., 0., 0., 0., 0., 1.], dtype=float32)"
      ]
     },
     "execution_count": 86,
     "metadata": {},
     "output_type": "execute_result"
    }
   ],
   "source": [
    "test_y[4]"
   ]
  },
  {
   "cell_type": "code",
   "execution_count": 66,
   "id": "5f11b745-f921-48a0-b94c-d5e211405ae3",
   "metadata": {},
   "outputs": [
    {
     "data": {
      "text/plain": [
       "2"
      ]
     },
     "execution_count": 66,
     "metadata": {},
     "output_type": "execute_result"
    }
   ],
   "source": [
    "np.where(predictions[0] == max(predictions[0]))[0][0]"
   ]
  },
  {
   "cell_type": "code",
   "execution_count": null,
   "id": "89e09c8e-8431-4175-bf79-86be09af4500",
   "metadata": {},
   "outputs": [],
   "source": []
  }
 ],
 "metadata": {
  "kernelspec": {
   "display_name": "Python 3",
   "language": "python",
   "name": "python3"
  },
  "language_info": {
   "codemirror_mode": {
    "name": "ipython",
    "version": 3
   },
   "file_extension": ".py",
   "mimetype": "text/x-python",
   "name": "python",
   "nbconvert_exporter": "python",
   "pygments_lexer": "ipython3",
   "version": "3.10.4"
  }
 },
 "nbformat": 4,
 "nbformat_minor": 5
}

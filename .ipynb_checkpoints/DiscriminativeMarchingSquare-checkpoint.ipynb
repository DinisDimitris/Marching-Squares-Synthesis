{
 "cells": [
  {
   "cell_type": "code",
   "execution_count": 92,
   "id": "71ecfe3a-a329-42b4-94b7-d21a80308ab3",
   "metadata": {},
   "outputs": [],
   "source": [
    "import numpy as np\n",
    "import os\n",
    "import matplotlib.pyplot as plt\n",
    "from sklearn.model_selection import KFold\n",
    "from tensorflow.keras.utils import to_categorical\n",
    "from tensorflow.keras.models import Sequential, Model\n",
    "from tensorflow.keras.layers import Conv2D\n",
    "from tensorflow.keras.layers import MaxPooling2D\n",
    "from tensorflow.keras.layers import Dense, Flatten\n",
    "from tensorflow.keras.optimizers import SGD\n",
    "import tensorflow.keras.backend as K\n",
    "from sklearn.model_selection import train_test_split"
   ]
  },
  {
   "cell_type": "code",
   "execution_count": 93,
   "id": "94e2f0b6-da61-430d-8f0e-d49841e9ba3c",
   "metadata": {},
   "outputs": [],
   "source": [
    "def normalize_pixels(data):\n",
    "    return data / 255"
   ]
  },
  {
   "cell_type": "code",
   "execution_count": 94,
   "id": "ba138578-1def-4ee2-bb1c-74df291f59bf",
   "metadata": {
    "tags": []
   },
   "outputs": [],
   "source": [
    "def load_dataset():\n",
    "    data = np.load('dataset/shape_data.npz', mmap_mode='r', allow_pickle=True)\n",
    "    x = data['contours']\n",
    "    y = data['labels']\n",
    "    \n",
    "    train_x, test_x, train_y, test_y = train_test_split(x, y, test_size=0.33, random_state=42)\n",
    "    \n",
    "    train_x.reshape(-1, 28,28,1)\n",
    "    test_x.reshape(-1, 28,28,1)\n",
    "    \n",
    "    train_y = to_categorical(train_y)\n",
    "    test_y = to_categorical(train_y)\n",
    "    \n",
    "    return normalize_pixels(train_x), normalize_pixels(test_x), train_y, test_y"
   ]
  },
  {
   "cell_type": "code",
   "execution_count": 95,
   "id": "d614d7be-ebd4-46e0-af68-1c0f6f3f7121",
   "metadata": {},
   "outputs": [],
   "source": [
    "def define_model(layers):\n",
    "    model = Sequential()\n",
    "    for i in range(layers):\n",
    "        model.add(Conv2D(32, (3,3), activation = \"relu\", kernel_initializer=\"he_uniform\", input_shape = (28,28,1) ))\n",
    "    model.add(MaxPooling2D(2,2))\n",
    "    model.add(Flatten())\n",
    "    model.add(Dense(60, activation =\"relu\", kernel_initializer=\"he_uniform\"))\n",
    "    model.add(Dense(6, activation =\"softmax\"))\n",
    "    \n",
    "    model.compile(optimizer= SGD(lr = 0.01, momentum = 0.9), loss = \"categorical_crossentropy\", metrics = [\"accuracy\"])\n",
    "    \n",
    "    return model"
   ]
  },
  {
   "cell_type": "code",
   "execution_count": 96,
   "id": "c21ee87b-dd48-4e6e-92c7-d6db6913add7",
   "metadata": {},
   "outputs": [],
   "source": [
    "def evaluate_model(k, train_x, train_y):\n",
    "    scores, hist = [], []\n",
    "    kf = KFold(k, shuffle = True, random_state= 42)\n",
    "    \n",
    "    for model_number, (train_index, test_index) in enumerate(kf.split(train_x)):\n",
    "        model = define_model(1)\n",
    "        trainX, trainY, testX, testY = train_x[train_index], train_y[train_index], train_x[test_index], train_y[test_index]\n",
    "        \n",
    "        history = model.fit(trainX, trainY, epochs=5, batch_size=32, validation_data = (testX,testY), verbose = 1)\n",
    "        _, acc = model.evaluate(testX, testY)\n",
    "\n",
    "        \n",
    "        print(\"Acc of model \" + str(model_number) + \"is \" + str(acc))\n",
    "        if not os.path.exists(\"weights\"):\n",
    "            os.makedirs(\"weights\")\n",
    "        model.save_weights(\"weights/model\" + str(model_number) + \".h5\")\n",
    "        scores.append(acc)\n",
    "        hist.append(history)\n",
    "    return scores,hist"
   ]
  },
  {
   "cell_type": "code",
   "execution_count": 97,
   "id": "d05d166a-2a68-4df4-8fbf-686ba67dfbf1",
   "metadata": {},
   "outputs": [],
   "source": [
    "train_x, test_x, train_y, test_y = load_dataset()"
   ]
  },
  {
   "cell_type": "code",
   "execution_count": 98,
   "id": "f9c9e16b-8983-4507-800d-7aa0828b6457",
   "metadata": {},
   "outputs": [
    {
     "name": "stdout",
     "output_type": "stream",
     "text": [
      "Epoch 1/5\n",
      "27/27 [==============================] - 2s 75ms/step - loss: 0.3894 - accuracy: 0.8853 - val_loss: 0.0712 - val_accuracy: 0.9821\n",
      "Epoch 2/5\n",
      "27/27 [==============================] - 2s 78ms/step - loss: 0.0314 - accuracy: 0.9928 - val_loss: 0.0281 - val_accuracy: 0.9964\n",
      "Epoch 3/5\n",
      "27/27 [==============================] - 2s 70ms/step - loss: 0.0061 - accuracy: 1.0000 - val_loss: 0.0235 - val_accuracy: 0.9964\n",
      "Epoch 4/5\n",
      "27/27 [==============================] - 2s 65ms/step - loss: 0.0037 - accuracy: 1.0000 - val_loss: 0.0216 - val_accuracy: 0.9964\n",
      "Epoch 5/5\n",
      "27/27 [==============================] - 2s 58ms/step - loss: 0.0027 - accuracy: 1.0000 - val_loss: 0.0207 - val_accuracy: 0.9964\n",
      "27/27 [==============================] - 1s 16ms/step - loss: 0.0207 - accuracy: 0.9964\n",
      "Acc of model 0is 0.9964200258255005\n",
      "Epoch 1/5\n",
      "27/27 [==============================] - 2s 67ms/step - loss: 0.3974 - accuracy: 0.8628 - val_loss: 0.0352 - val_accuracy: 0.9940\n",
      "Epoch 2/5\n",
      "27/27 [==============================] - 2s 66ms/step - loss: 0.0340 - accuracy: 0.9881 - val_loss: 0.0127 - val_accuracy: 1.0000\n",
      "Epoch 3/5\n",
      "27/27 [==============================] - 2s 93ms/step - loss: 0.0123 - accuracy: 0.9952 - val_loss: 0.0078 - val_accuracy: 1.0000\n",
      "Epoch 4/5\n",
      "27/27 [==============================] - 2s 74ms/step - loss: 0.0084 - accuracy: 0.9976 - val_loss: 0.0047 - val_accuracy: 1.0000\n",
      "Epoch 5/5\n",
      "27/27 [==============================] - 2s 69ms/step - loss: 0.0050 - accuracy: 1.0000 - val_loss: 0.0025 - val_accuracy: 1.0000\n",
      "27/27 [==============================] - 1s 27ms/step - loss: 0.0025 - accuracy: 1.0000\n",
      "Acc of model 1is 1.0\n"
     ]
    }
   ],
   "source": [
    "scores, hist = evaluate_model(2,train_x, train_y)"
   ]
  },
  {
   "cell_type": "code",
   "execution_count": null,
   "id": "6e339796-d67d-4d96-af61-8b2a83f66d8b",
   "metadata": {},
   "outputs": [],
   "source": []
  }
 ],
 "metadata": {
  "kernelspec": {
   "display_name": "Python 3",
   "language": "python",
   "name": "python3"
  },
  "language_info": {
   "codemirror_mode": {
    "name": "ipython",
    "version": 3
   },
   "file_extension": ".py",
   "mimetype": "text/x-python",
   "name": "python",
   "nbconvert_exporter": "python",
   "pygments_lexer": "ipython3",
   "version": "3.10.4"
  }
 },
 "nbformat": 4,
 "nbformat_minor": 5
}
